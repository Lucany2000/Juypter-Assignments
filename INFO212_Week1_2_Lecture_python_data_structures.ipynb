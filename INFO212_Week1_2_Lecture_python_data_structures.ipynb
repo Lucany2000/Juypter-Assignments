{
  "nbformat": 4,
  "nbformat_minor": 0,
  "metadata": {
    "kernelspec": {
      "display_name": "Python 3",
      "language": "python",
      "name": "python3"
    },
    "language_info": {
      "codemirror_mode": {
        "name": "ipython",
        "version": 3
      },
      "file_extension": ".py",
      "mimetype": "text/x-python",
      "name": "python",
      "nbconvert_exporter": "python",
      "pygments_lexer": "ipython3",
      "version": "3.7.6"
    },
    "colab": {
      "provenance": []
    }
  },
  "cells": [
    {
      "cell_type": "markdown",
      "metadata": {
        "id": "JSWMcwyN3pbq"
      },
      "source": [
        "# INFO 212: Data Science Programming 1\n",
        "\n",
        "## Lecture 2: Python Built-in Data Structures\n",
        "---\n",
        "\n",
        "## **Summary:**\n",
        "* tuples are immutable\n",
        "* list.append() to add elements at the end of a list\n",
        "* enumearte(list) generates sequences of tuples (index, element)\n",
        "* dictionary keys must be immutable\n",
        "* zip combines two sequences to a sequence of tuples\n",
        "* zip(*sequence of tuples) unzip to separate sequences\n",
        "* [x for x in a sequence if filter] list comprehension is more compact\n",
        "* set is dictionary with only keys\n",
        "---"
      ]
    },
    {
      "cell_type": "code",
      "source": [],
      "metadata": {
        "id": "vgFYM6cZOdHx"
      },
      "execution_count": null,
      "outputs": []
    },
    {
      "cell_type": "markdown",
      "metadata": {
        "id": "hgMncjBtJBqn"
      },
      "source": [
        "# Access External Data from Colab Notebooks"
      ]
    },
    {
      "cell_type": "code",
      "metadata": {
        "id": "HLhsO54APcX7"
      },
      "source": [
        "from google.colab import drive\n",
        "drive.mount('/content/drive')"
      ],
      "execution_count": null,
      "outputs": []
    },
    {
      "cell_type": "code",
      "metadata": {
        "id": "3RH8FzLGP0RJ"
      },
      "source": [
        "fileName = \"/content/drive/MyDrive/Colab Notebooks/courses/INFO212/CCI-10thLobby.jpg\""
      ],
      "execution_count": 2,
      "outputs": []
    },
    {
      "cell_type": "code",
      "source": [
        "from google.colab import files\n",
        "files.upload()"
      ],
      "metadata": {
        "id": "Oox9K0d_UPR_",
        "colab": {
          "base_uri": "https://localhost:8080/",
          "height": 128
        },
        "outputId": "92b00ba3-1cc2-43aa-fd3e-5742d302d538"
      },
      "execution_count": 5,
      "outputs": [
        {
          "output_type": "display_data",
          "data": {
            "text/plain": [
              "<IPython.core.display.HTML object>"
            ],
            "text/html": [
              "\n",
              "     <input type=\"file\" id=\"files-a9194b16-dd63-461b-bece-dec96e598f94\" name=\"files[]\" multiple disabled\n",
              "        style=\"border:none\" />\n",
              "     <output id=\"result-a9194b16-dd63-461b-bece-dec96e598f94\">\n",
              "      Upload widget is only available when the cell has been executed in the\n",
              "      current browser session. Please rerun this cell to enable.\n",
              "      </output>\n",
              "      <script>// Copyright 2017 Google LLC\n",
              "//\n",
              "// Licensed under the Apache License, Version 2.0 (the \"License\");\n",
              "// you may not use this file except in compliance with the License.\n",
              "// You may obtain a copy of the License at\n",
              "//\n",
              "//      http://www.apache.org/licenses/LICENSE-2.0\n",
              "//\n",
              "// Unless required by applicable law or agreed to in writing, software\n",
              "// distributed under the License is distributed on an \"AS IS\" BASIS,\n",
              "// WITHOUT WARRANTIES OR CONDITIONS OF ANY KIND, either express or implied.\n",
              "// See the License for the specific language governing permissions and\n",
              "// limitations under the License.\n",
              "\n",
              "/**\n",
              " * @fileoverview Helpers for google.colab Python module.\n",
              " */\n",
              "(function(scope) {\n",
              "function span(text, styleAttributes = {}) {\n",
              "  const element = document.createElement('span');\n",
              "  element.textContent = text;\n",
              "  for (const key of Object.keys(styleAttributes)) {\n",
              "    element.style[key] = styleAttributes[key];\n",
              "  }\n",
              "  return element;\n",
              "}\n",
              "\n",
              "// Max number of bytes which will be uploaded at a time.\n",
              "const MAX_PAYLOAD_SIZE = 100 * 1024;\n",
              "\n",
              "function _uploadFiles(inputId, outputId) {\n",
              "  const steps = uploadFilesStep(inputId, outputId);\n",
              "  const outputElement = document.getElementById(outputId);\n",
              "  // Cache steps on the outputElement to make it available for the next call\n",
              "  // to uploadFilesContinue from Python.\n",
              "  outputElement.steps = steps;\n",
              "\n",
              "  return _uploadFilesContinue(outputId);\n",
              "}\n",
              "\n",
              "// This is roughly an async generator (not supported in the browser yet),\n",
              "// where there are multiple asynchronous steps and the Python side is going\n",
              "// to poll for completion of each step.\n",
              "// This uses a Promise to block the python side on completion of each step,\n",
              "// then passes the result of the previous step as the input to the next step.\n",
              "function _uploadFilesContinue(outputId) {\n",
              "  const outputElement = document.getElementById(outputId);\n",
              "  const steps = outputElement.steps;\n",
              "\n",
              "  const next = steps.next(outputElement.lastPromiseValue);\n",
              "  return Promise.resolve(next.value.promise).then((value) => {\n",
              "    // Cache the last promise value to make it available to the next\n",
              "    // step of the generator.\n",
              "    outputElement.lastPromiseValue = value;\n",
              "    return next.value.response;\n",
              "  });\n",
              "}\n",
              "\n",
              "/**\n",
              " * Generator function which is called between each async step of the upload\n",
              " * process.\n",
              " * @param {string} inputId Element ID of the input file picker element.\n",
              " * @param {string} outputId Element ID of the output display.\n",
              " * @return {!Iterable<!Object>} Iterable of next steps.\n",
              " */\n",
              "function* uploadFilesStep(inputId, outputId) {\n",
              "  const inputElement = document.getElementById(inputId);\n",
              "  inputElement.disabled = false;\n",
              "\n",
              "  const outputElement = document.getElementById(outputId);\n",
              "  outputElement.innerHTML = '';\n",
              "\n",
              "  const pickedPromise = new Promise((resolve) => {\n",
              "    inputElement.addEventListener('change', (e) => {\n",
              "      resolve(e.target.files);\n",
              "    });\n",
              "  });\n",
              "\n",
              "  const cancel = document.createElement('button');\n",
              "  inputElement.parentElement.appendChild(cancel);\n",
              "  cancel.textContent = 'Cancel upload';\n",
              "  const cancelPromise = new Promise((resolve) => {\n",
              "    cancel.onclick = () => {\n",
              "      resolve(null);\n",
              "    };\n",
              "  });\n",
              "\n",
              "  // Wait for the user to pick the files.\n",
              "  const files = yield {\n",
              "    promise: Promise.race([pickedPromise, cancelPromise]),\n",
              "    response: {\n",
              "      action: 'starting',\n",
              "    }\n",
              "  };\n",
              "\n",
              "  cancel.remove();\n",
              "\n",
              "  // Disable the input element since further picks are not allowed.\n",
              "  inputElement.disabled = true;\n",
              "\n",
              "  if (!files) {\n",
              "    return {\n",
              "      response: {\n",
              "        action: 'complete',\n",
              "      }\n",
              "    };\n",
              "  }\n",
              "\n",
              "  for (const file of files) {\n",
              "    const li = document.createElement('li');\n",
              "    li.append(span(file.name, {fontWeight: 'bold'}));\n",
              "    li.append(span(\n",
              "        `(${file.type || 'n/a'}) - ${file.size} bytes, ` +\n",
              "        `last modified: ${\n",
              "            file.lastModifiedDate ? file.lastModifiedDate.toLocaleDateString() :\n",
              "                                    'n/a'} - `));\n",
              "    const percent = span('0% done');\n",
              "    li.appendChild(percent);\n",
              "\n",
              "    outputElement.appendChild(li);\n",
              "\n",
              "    const fileDataPromise = new Promise((resolve) => {\n",
              "      const reader = new FileReader();\n",
              "      reader.onload = (e) => {\n",
              "        resolve(e.target.result);\n",
              "      };\n",
              "      reader.readAsArrayBuffer(file);\n",
              "    });\n",
              "    // Wait for the data to be ready.\n",
              "    let fileData = yield {\n",
              "      promise: fileDataPromise,\n",
              "      response: {\n",
              "        action: 'continue',\n",
              "      }\n",
              "    };\n",
              "\n",
              "    // Use a chunked sending to avoid message size limits. See b/62115660.\n",
              "    let position = 0;\n",
              "    do {\n",
              "      const length = Math.min(fileData.byteLength - position, MAX_PAYLOAD_SIZE);\n",
              "      const chunk = new Uint8Array(fileData, position, length);\n",
              "      position += length;\n",
              "\n",
              "      const base64 = btoa(String.fromCharCode.apply(null, chunk));\n",
              "      yield {\n",
              "        response: {\n",
              "          action: 'append',\n",
              "          file: file.name,\n",
              "          data: base64,\n",
              "        },\n",
              "      };\n",
              "\n",
              "      let percentDone = fileData.byteLength === 0 ?\n",
              "          100 :\n",
              "          Math.round((position / fileData.byteLength) * 100);\n",
              "      percent.textContent = `${percentDone}% done`;\n",
              "\n",
              "    } while (position < fileData.byteLength);\n",
              "  }\n",
              "\n",
              "  // All done.\n",
              "  yield {\n",
              "    response: {\n",
              "      action: 'complete',\n",
              "    }\n",
              "  };\n",
              "}\n",
              "\n",
              "scope.google = scope.google || {};\n",
              "scope.google.colab = scope.google.colab || {};\n",
              "scope.google.colab._files = {\n",
              "  _uploadFiles,\n",
              "  _uploadFilesContinue,\n",
              "};\n",
              "})(self);\n",
              "</script> "
            ]
          },
          "metadata": {}
        },
        {
          "output_type": "stream",
          "name": "stdout",
          "text": [
            "Saving anscombes.csv to anscombes.csv\n"
          ]
        },
        {
          "output_type": "execute_result",
          "data": {
            "text/plain": [
              "{'anscombes.csv': b'id,dataset,x,y\\n0,I,10.0,8.04\\n1,I,8.0,6.95\\n2,I,13.0,7.58\\n3,I,9.0,8.81\\n4,I,11.0,8.33\\n5,I,14.0,9.96\\n6,I,6.0,7.24\\n7,I,4.0,4.26\\n8,I,12.0,10.84\\n9,I,7.0,4.82\\n10,I,5.0,5.68\\n11,II,10.0,9.14\\n12,II,8.0,8.14\\n13,II,13.0,8.74\\n14,II,9.0,8.77\\n15,II,11.0,9.26\\n16,II,14.0,8.1\\n17,II,6.0,6.13\\n18,II,4.0,3.1\\n19,II,12.0,9.13\\n20,II,7.0,7.26\\n21,II,5.0,4.74\\n22,III,10.0,7.46\\n23,III,8.0,6.77\\n24,III,13.0,12.74\\n25,III,9.0,7.11\\n26,III,11.0,7.81\\n27,III,14.0,8.84\\n28,III,6.0,6.08\\n29,III,4.0,5.39\\n30,III,12.0,8.15\\n31,III,7.0,6.42\\n32,III,5.0,5.73\\n33,IV,8.0,6.58\\n34,IV,8.0,5.76\\n35,IV,8.0,7.71\\n36,IV,8.0,8.84\\n37,IV,8.0,8.47\\n38,IV,8.0,7.04\\n39,IV,8.0,5.25\\n40,IV,19.0,12.5\\n41,IV,8.0,5.56\\n42,IV,8.0,7.91\\n43,IV,8.0,6.89\\n'}"
            ]
          },
          "metadata": {},
          "execution_count": 5
        }
      ]
    },
    {
      "cell_type": "markdown",
      "metadata": {
        "id": "DF2DMMKKJTRz"
      },
      "source": [
        "## Open Files"
      ]
    },
    {
      "cell_type": "code",
      "metadata": {
        "colab": {
          "base_uri": "https://localhost:8080/"
        },
        "id": "_LpuX6X5JX9i",
        "outputId": "59ee04e2-8dfa-442c-f511-97244c73ad7a"
      },
      "source": [
        "with open('anscombes.csv', 'r') as f:\n",
        "    lines = f.readlines()\n",
        "    print(lines)"
      ],
      "execution_count": 6,
      "outputs": [
        {
          "output_type": "stream",
          "name": "stdout",
          "text": [
            "['id,dataset,x,y\\n', '0,I,10.0,8.04\\n', '1,I,8.0,6.95\\n', '2,I,13.0,7.58\\n', '3,I,9.0,8.81\\n', '4,I,11.0,8.33\\n', '5,I,14.0,9.96\\n', '6,I,6.0,7.24\\n', '7,I,4.0,4.26\\n', '8,I,12.0,10.84\\n', '9,I,7.0,4.82\\n', '10,I,5.0,5.68\\n', '11,II,10.0,9.14\\n', '12,II,8.0,8.14\\n', '13,II,13.0,8.74\\n', '14,II,9.0,8.77\\n', '15,II,11.0,9.26\\n', '16,II,14.0,8.1\\n', '17,II,6.0,6.13\\n', '18,II,4.0,3.1\\n', '19,II,12.0,9.13\\n', '20,II,7.0,7.26\\n', '21,II,5.0,4.74\\n', '22,III,10.0,7.46\\n', '23,III,8.0,6.77\\n', '24,III,13.0,12.74\\n', '25,III,9.0,7.11\\n', '26,III,11.0,7.81\\n', '27,III,14.0,8.84\\n', '28,III,6.0,6.08\\n', '29,III,4.0,5.39\\n', '30,III,12.0,8.15\\n', '31,III,7.0,6.42\\n', '32,III,5.0,5.73\\n', '33,IV,8.0,6.58\\n', '34,IV,8.0,5.76\\n', '35,IV,8.0,7.71\\n', '36,IV,8.0,8.84\\n', '37,IV,8.0,8.47\\n', '38,IV,8.0,7.04\\n', '39,IV,8.0,5.25\\n', '40,IV,19.0,12.5\\n', '41,IV,8.0,5.56\\n', '42,IV,8.0,7.91\\n', '43,IV,8.0,6.89\\n']\n"
          ]
        }
      ]
    },
    {
      "cell_type": "markdown",
      "metadata": {
        "id": "RQJwODijJjSe"
      },
      "source": [
        "# Exception in Python"
      ]
    },
    {
      "cell_type": "code",
      "metadata": {
        "id": "a4U87W__JnQM"
      },
      "source": [
        "fileName = 'empty_lines.txt'\n",
        "try:\n",
        "    with open(fileName, 'r') as f:\n",
        "        line = f.readlines()\n",
        "        print(lines)\n",
        "except FileNotFoundError:\n",
        "    print(\"{} desn't exist\".format(fileName))"
      ],
      "execution_count": null,
      "outputs": []
    },
    {
      "cell_type": "markdown",
      "source": [
        "# Import Libraries"
      ],
      "metadata": {
        "id": "ZTt8gizjUf1f"
      }
    },
    {
      "cell_type": "code",
      "source": [
        "# import libraries\n"
      ],
      "metadata": {
        "id": "mIsUH85a_maH"
      },
      "execution_count": null,
      "outputs": []
    },
    {
      "cell_type": "markdown",
      "metadata": {
        "id": "V1bob4ZO3pbz"
      },
      "source": [
        "# Data Structures and Sequences\n",
        "Python’s data structures are simple but powerful. Mastering their use is a critical for data science programming."
      ]
    },
    {
      "cell_type": "markdown",
      "metadata": {
        "id": "NeYYWM5V3pbz"
      },
      "source": [
        "## Tuple\n",
        "A tuple is a fixed-length, immutable sequence of Python objects. The easiest way to\n",
        "create one is with a comma-separated sequence of values:"
      ]
    },
    {
      "cell_type": "code",
      "source": [
        "t = (1, 2, 3)"
      ],
      "metadata": {
        "id": "Y_v0jreXU5y9"
      },
      "execution_count": 8,
      "outputs": []
    },
    {
      "cell_type": "markdown",
      "metadata": {
        "id": "BpAii_F53pb-"
      },
      "source": [
        "## List\n",
        "lists are variable-length and their contents can be modified\n",
        "in-place. You can define them using square brackets [] or using the list type function:"
      ]
    },
    {
      "cell_type": "code",
      "source": [
        "lst = [1, 2, 3]"
      ],
      "metadata": {
        "id": "IPEu3BfzVL7d"
      },
      "execution_count": 9,
      "outputs": []
    },
    {
      "cell_type": "markdown",
      "source": [
        "### List Slicing"
      ],
      "metadata": {
        "id": "mh7YJYz_VMRF"
      }
    },
    {
      "cell_type": "markdown",
      "metadata": {
        "id": "BEqtSN1f3pcK"
      },
      "source": [
        "The following figure shows a helpful illustration of slicing with positive and negative\n",
        "integers. In the figure, the indices are shown at the “bin edges” to help show\n",
        "where the slice selections start and stop using positive or negative indices.\n",
        "![](https://i.imgur.com/zJA7O16.png)"
      ]
    },
    {
      "cell_type": "code",
      "source": [
        "string = \"hello!\"\n",
        "print(string[2:4])\n",
        "print(string[-6:-2])\n",
        "print(string[:])\n",
        "print(string[:1])\n",
        "print(string[1:])\n",
        "print(string[-2:])\n",
        "print(string[::-1])"
      ],
      "metadata": {
        "colab": {
          "base_uri": "https://localhost:8080/"
        },
        "id": "4NjC7VaSRD5t",
        "outputId": "b6e64b7b-273b-4e97-f52f-1906cec481d4"
      },
      "execution_count": 30,
      "outputs": [
        {
          "output_type": "stream",
          "name": "stdout",
          "text": [
            "ll\n",
            "hell\n",
            "hello!\n",
            "h\n",
            "ello!\n",
            "o!\n",
            "!olleh\n"
          ]
        }
      ]
    },
    {
      "cell_type": "markdown",
      "metadata": {
        "id": "LVKPlUME3pcM"
      },
      "source": [
        "### Built-in Sequence Functions\n",
        "Python has a handful of useful sequence functions that you should familiarize yourself\n",
        "with and use at any opportunity."
      ]
    },
    {
      "cell_type": "markdown",
      "metadata": {
        "id": "ismNlvdh3pcN"
      },
      "source": [
        "#### enumerate"
      ]
    },
    {
      "cell_type": "code",
      "source": [
        "for indx, val, in enumerate(t):\n",
        "  print(indx, val)"
      ],
      "metadata": {
        "id": "Ezg4NJw8VahE",
        "colab": {
          "base_uri": "https://localhost:8080/"
        },
        "outputId": "246ffc9b-0d4e-4df5-d8a6-5388bb5d2ebc"
      },
      "execution_count": 34,
      "outputs": [
        {
          "output_type": "stream",
          "name": "stdout",
          "text": [
            "0 1\n",
            "1 2\n",
            "2 3\n"
          ]
        }
      ]
    },
    {
      "cell_type": "markdown",
      "metadata": {
        "id": "VSxHXNky3pcP"
      },
      "source": [
        "#### zip"
      ]
    },
    {
      "cell_type": "markdown",
      "metadata": {
        "id": "Gx3Nt_dN3pcQ"
      },
      "source": [
        "zip “pairs” up the elements of a number of lists, tuples, or other sequences to create a\n",
        "list of tuples:\n",
        "```\n",
        "seq1 = ['foo', 'bar', 'baz']\n",
        "seq2 = ['one', 'two', 'three']\n",
        "zipped = zip(seq1, seq2)\n",
        "list(zipped)\n",
        "```"
      ]
    },
    {
      "cell_type": "markdown",
      "metadata": {
        "id": "hAmucoY13pcT"
      },
      "source": [
        "## Dictionary\n",
        "Dictionary is likely the most important built-in Python data structure. A more common\n",
        "name for it is hash map or associative array. It is a flexibly sized collection of key-value\n",
        "pairs, where key and value are Python objects. One approach for creating one is to use\n",
        "curly braces {} and colons to separate keys and values:"
      ]
    },
    {
      "cell_type": "code",
      "source": [],
      "metadata": {
        "id": "ZOQfsjaHVtUs"
      },
      "execution_count": 7,
      "outputs": []
    },
    {
      "cell_type": "markdown",
      "metadata": {
        "id": "XdOyXg9j3pcW"
      },
      "source": [
        "#### Creating dicts from sequences\n",
        "It’s common to occasionally end up with two sequences that you want to pair up\n",
        "element-wise in a dict. As a first cut, you might write code like this:"
      ]
    },
    {
      "cell_type": "markdown",
      "metadata": {
        "id": "T_Y1Ifqj3pcW"
      },
      "source": [
        "```\n",
        "mapping = {}\n",
        "for key, value in zip(key_list, value_list):\n",
        "    mapping[key] = value\n",
        "```"
      ]
    },
    {
      "cell_type": "markdown",
      "metadata": {
        "id": "v6Nm3xrB3pcZ"
      },
      "source": [
        "#### Valid dict key types"
      ]
    },
    {
      "cell_type": "markdown",
      "metadata": {
        "id": "9Vj5SASJ3pcZ"
      },
      "source": [
        "Keys of dicitonaries must be hashable or immutable.\n",
        "```\n",
        "hash('string')\n",
        "hash((1, 2, (2, 3)))\n",
        "hash((1, 2, [2, 3])) # fails because lists are mutable\n",
        "```"
      ]
    },
    {
      "cell_type": "markdown",
      "metadata": {
        "id": "EhGZViUt3pcb"
      },
      "source": [
        "## Set"
      ]
    },
    {
      "cell_type": "markdown",
      "metadata": {
        "id": "5jnLk1ne3pcb"
      },
      "source": [
        "A set is an unordered collection of unique elements.\n",
        "```\n",
        "set([2, 2, 2, 1, 3, 3])\n",
        "{2, 2, 2, 1, 3, 3}\n",
        "```"
      ]
    },
    {
      "cell_type": "markdown",
      "metadata": {
        "id": "0LTI57u43pcc"
      },
      "source": [
        "Set union, intersection, difference, and symmetric difference"
      ]
    },
    {
      "cell_type": "markdown",
      "metadata": {
        "id": "cVD22JOF3pcc"
      },
      "source": [
        "```\n",
        "a.union(b)\n",
        "a | b\n",
        "```"
      ]
    },
    {
      "cell_type": "markdown",
      "metadata": {
        "id": "hd79LGQd3pcd"
      },
      "source": [
        "```\n",
        "a.intersection(b)\n",
        "a & b\n",
        "```"
      ]
    },
    {
      "cell_type": "markdown",
      "metadata": {
        "id": "fgWaZm-z3pce"
      },
      "source": [
        "## List, Set, and Dict Comprehensions"
      ]
    },
    {
      "cell_type": "markdown",
      "metadata": {
        "id": "sIXKSXRE3pce"
      },
      "source": [
        "List comprehensions are one of the most-loved Python language features. They allow\n",
        "you to concisely form a new list by filtering the elements of a collection, transforming\n",
        "the elements passing the filter in one concise expression. They take the basic form:\n",
        "```\n",
        "[expr for val in collection if condition]\n",
        "```\n",
        "\n",
        "This is equivalent to the following for loop:\n",
        "```\n",
        "result = []\n",
        "for val in collection:\n",
        "    if condition:\n",
        "        result.append(expr)\n",
        "```\n",
        "The filter condition can be omitted, leaving only the expression. For example, given a\n",
        "list of strings, we could filter out strings with length 2 or less and also convert them to uppercase like this:"
      ]
    },
    {
      "cell_type": "markdown",
      "metadata": {
        "id": "qnF3DH643pcf"
      },
      "source": [
        "```\n",
        "strings = ['a', 'as', 'bat', 'car', 'dove', 'python']\n",
        "[x.upper() for x in strings if len(x) > 2]\n",
        "```"
      ]
    },
    {
      "cell_type": "code",
      "metadata": {
        "id": "3x85ue-j5ozm"
      },
      "source": [],
      "execution_count": 7,
      "outputs": []
    },
    {
      "cell_type": "markdown",
      "metadata": {
        "id": "mdcTHjGF3pcf"
      },
      "source": [
        "Set and dict comprehensions are a natural extension, producing sets and dicts in an\n",
        "idiomatically similar way instead of lists. A dict comprehension looks like this:\n",
        "```\n",
        "dict_comp = {key-expr : value-expr for value in collection if condition}\n",
        "```"
      ]
    },
    {
      "cell_type": "markdown",
      "metadata": {
        "id": "X9efFMxs3pcf"
      },
      "source": [
        "A set comprehension looks like the equivalent list comprehension except with curly\n",
        "braces instead of square brackets:\n",
        "```\n",
        "set_comp = {expr for value in collection if condition}\n",
        "```"
      ]
    },
    {
      "cell_type": "markdown",
      "metadata": {
        "id": "nJ7VCm-a3pcg"
      },
      "source": [
        "```\n",
        "unique_lengths = {len(x) for x in strings}\n",
        "unique_lengths\n",
        "```"
      ]
    },
    {
      "cell_type": "markdown",
      "metadata": {
        "id": "pVutnpT13pcg"
      },
      "source": [
        "```\n",
        "set(map(len, strings))\n",
        "```"
      ]
    },
    {
      "cell_type": "markdown",
      "metadata": {
        "id": "OpG_63d03pch"
      },
      "source": [
        "```\n",
        "loc_mapping = {val : index for index, val in enumerate(strings)}\n",
        "loc_mapping\n",
        "```"
      ]
    }
  ]
}