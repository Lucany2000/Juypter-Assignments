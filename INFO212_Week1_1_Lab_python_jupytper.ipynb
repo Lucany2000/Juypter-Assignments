{
  "nbformat": 4,
  "nbformat_minor": 0,
  "metadata": {
    "kernelspec": {
      "display_name": "Python 3",
      "language": "python",
      "name": "python3"
    },
    "language_info": {
      "codemirror_mode": {
        "name": "ipython",
        "version": 3
      },
      "file_extension": ".py",
      "mimetype": "text/x-python",
      "name": "python",
      "nbconvert_exporter": "python",
      "pygments_lexer": "ipython3",
      "version": "3.7.1"
    },
    "colab": {
      "provenance": []
    }
  },
  "cells": [
    {
      "cell_type": "markdown",
      "metadata": {
        "id": "aWL1iSNqF4kn"
      },
      "source": [
        "# INFO 212: Data Science Programming 1\n",
        "## CCI at Drexel University\n",
        "\n",
        "\n",
        "## Week 1-Lab 1: Setup and Review: Python and Jupyter Notebooks\n",
        "\n",
        "We will be using a variety of tools in this course. To ensure everyting goes smoothly moving forward, it is important to get familiar with the programming environment and libraries."
      ]
    },
    {
      "cell_type": "markdown",
      "source": [
        "## Exercise 1:\n",
        "Download the data set  \"anscombes.csv\" from the course shell to a folder \"info212\":\n",
        "- In a local environment, it would be good to store the data in the same folder where the notebook resides.\n",
        "- Upload the file to your Google Drive folder \"info212\"\n",
        "\n",
        "Print out the absolute path of the file in the file system."
      ],
      "metadata": {
        "id": "7tFDbPhJSPD4"
      }
    },
    {
      "cell_type": "code",
      "source": [],
      "metadata": {
        "id": "6KnQ-JxO6NHx"
      },
      "execution_count": null,
      "outputs": []
    },
    {
      "cell_type": "markdown",
      "source": [
        "## Exercise 2:\n",
        "Using Markdown to organize your personal information in paragraphs and lists. You must implement the following minimum requirements:\n",
        "* Create at least 3 sections, *background*, *interests*, and *courses*.\n",
        "* Use headings for section titles.\n",
        "* Include an ordered list.\n",
        "* Include an unordered list.\n",
        "* Include hyperlinks pointing to external Web pages.\n",
        "* Embed some images.\n",
        "* Use **bold** and *italic* fonts."
      ],
      "metadata": {
        "id": "aMzXEEVoUCFF"
      }
    },
    {
      "cell_type": "markdown",
      "source": [],
      "metadata": {
        "id": "OU8I8c9xUMTe"
      }
    },
    {
      "cell_type": "markdown",
      "metadata": {
        "id": "NtROmfKhF4ku"
      },
      "source": [
        "## Import Conventions\n",
        "The Python community has adopted a number of naming conventions for commonly used\n",
        "modules:"
      ]
    },
    {
      "cell_type": "markdown",
      "source": [
        "## Exercise 3:\n",
        "Following the naming conventions, import the libraries, pandas, numpy, matplotlib, matplotlib.pyplot, and scipy. Print out the version number of each package.  "
      ],
      "metadata": {
        "id": "rSoOzmBD1IvJ"
      }
    },
    {
      "cell_type": "code",
      "source": [],
      "metadata": {
        "id": "fkUI93MM6R-Z"
      },
      "execution_count": null,
      "outputs": []
    },
    {
      "cell_type": "markdown",
      "source": [
        "## Exercise 4:\n",
        "Write a for loop to print out every pair of two consecutive letters (bi-grams) in the string \"Hello World\"."
      ],
      "metadata": {
        "id": "KIebMaYOHQk7"
      }
    },
    {
      "cell_type": "code",
      "source": [],
      "metadata": {
        "id": "bOHWWkXO6UDT"
      },
      "execution_count": null,
      "outputs": []
    }
  ]
}